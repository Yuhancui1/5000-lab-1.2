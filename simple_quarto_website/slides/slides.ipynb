{
 "cells": [
  {
   "cell_type": "markdown",
   "metadata": {},
   "source": [
    "---\n",
    "title: \"Sample Presentation\"\n",
    "bibliography: ../reference.bib\n",
    "format: revealjs\n",
    "revealjs:\n",
    "  html:\n",
    "    code-fold: true\n",
    "    code-summary: \"Show the code\"\n",
    "\n",
    "---\n"
   ]
  },
  {
   "cell_type": "markdown",
   "metadata": {},
   "source": [
    "## Slide 1 Title\n",
    "\n",
    "Content for slide 1.\n",
    "\n",
    "![Slide 1 Image](../images/imageabc.jpeg)\n",
    "\n",
    "---\n",
    "\n",
    "## Slide 2 Title\n",
    "\n",
    "This slide will contain a citation[@mcsweeney2001hematopoietic].\n",
    "\n",
    "\n",
    "---\n",
    "\n",
    "## Slide 3 Title\n",
    "\n",
    "![Slide 3 Image](../images/jblin.jpeg)\n",
    "\n",
    "Content for slide 3.\n"
   ]
  },
  {
   "cell_type": "code",
   "execution_count": null,
   "metadata": {},
   "outputs": [],
   "source": [
    "# This is the Python code for the plot\n",
    "\n",
    "import matplotlib.pyplot as plt\n",
    "import numpy as np\n",
    "\n",
    "x = np.linspace(0, 10, 100)\n",
    "y = np.sin(x)\n",
    "\n",
    "plt.plot(x, y, label='sin(x)')\n",
    "plt.title(\"Sample Plot\")\n",
    "plt.xlabel(\"x\")\n",
    "plt.ylabel(\"y\")\n",
    "plt.legend()\n",
    "plt.grid(True)\n",
    "plt.show()\n"
   ]
  },
  {
   "cell_type": "code",
   "execution_count": null,
   "metadata": {},
   "outputs": [],
   "source": []
  }
 ],
 "metadata": {
  "language_info": {
   "name": "python"
  },
  "orig_nbformat": 4
 },
 "nbformat": 4,
 "nbformat_minor": 2
}
